{
 "cells": [
  {
   "cell_type": "markdown",
   "metadata": {},
   "source": [
    "# Linear Algebra Refresher Notebook"
   ]
  },
  {
   "cell_type": "code",
   "execution_count": 3,
   "metadata": {},
   "outputs": [],
   "source": [
    "import numpy as np"
   ]
  },
  {
   "cell_type": "markdown",
   "metadata": {},
   "source": [
    "# Vectors"
   ]
  },
  {
   "cell_type": "markdown",
   "metadata": {},
   "source": [
    "<img src=\"img/pic1.png\" width=\"400\">"
   ]
  },
  {
   "cell_type": "code",
   "execution_count": 9,
   "metadata": {},
   "outputs": [
    {
     "name": "stdout",
     "output_type": "stream",
     "text": [
      "Vector A: [1 2 3]\n",
      "Vector B: [4 5 6]\n"
     ]
    }
   ],
   "source": [
    "# VECTORS A & B\n",
    "A = np.array([1, 2, 3])\n",
    "B = np.array([4, 5, 6])\n",
    "\n",
    "print(\"Vector A:\", A) \n",
    "print(\"Vector B:\",B)"
   ]
  },
  {
   "cell_type": "markdown",
   "metadata": {},
   "source": [
    "# Vector Opertations"
   ]
  },
  {
   "cell_type": "markdown",
   "metadata": {},
   "source": [
    "<img src=\"img/pic2_addition.png\" width=\"400\">"
   ]
  },
  {
   "cell_type": "code",
   "execution_count": 10,
   "metadata": {},
   "outputs": [
    {
     "name": "stdout",
     "output_type": "stream",
     "text": [
      "Vector A: [1 2 3] + Vector B: [4 5 6] = Vector C: [5 7 9]\n"
     ]
    }
   ],
   "source": [
    "C = A + B\n",
    "print(\"Vector A:\", A, \"+ Vector B:\",B, \"= Vector C:\", C)"
   ]
  },
  {
   "cell_type": "markdown",
   "metadata": {},
   "source": [
    "<img src=\"img/pic3_subtraction.png\" width=\"400\">"
   ]
  },
  {
   "cell_type": "code",
   "execution_count": 11,
   "metadata": {},
   "outputs": [
    {
     "name": "stdout",
     "output_type": "stream",
     "text": [
      "Vector A: [1 2 3] - Vector B: [4 5 6] = Vector C: [-3 -3 -3]\n"
     ]
    }
   ],
   "source": [
    "C = A - B\n",
    "print(\"Vector A:\", A, \"- Vector B:\",B, \"= Vector C:\", C)"
   ]
  },
  {
   "cell_type": "markdown",
   "metadata": {},
   "source": [
    "## Magnitude & Unit"
   ]
  },
  {
   "cell_type": "markdown",
   "metadata": {},
   "source": [
    "<img src=\"img/pic4_magnitude.png\" width=\"400\">"
   ]
  },
  {
   "cell_type": "code",
   "execution_count": 12,
   "metadata": {},
   "outputs": [
    {
     "name": "stdout",
     "output_type": "stream",
     "text": [
      "Magnitude of Vector A: 3.7416573867739413\n",
      "Magnitude of Vector B: 8.774964387392123\n"
     ]
    }
   ],
   "source": [
    "magnitude_A = np.linalg.norm(A)\n",
    "magnitude_B = np.linalg.norm(B)\n",
    "\n",
    "print(\"Magnitude of Vector A:\", magnitude_A)\n",
    "print(\"Magnitude of Vector B:\", magnitude_B)"
   ]
  },
  {
   "cell_type": "markdown",
   "metadata": {},
   "source": [
    "<img src=\"img/pic5_magnitude2.png\" width=\"400\">"
   ]
  },
  {
   "cell_type": "code",
   "execution_count": 13,
   "metadata": {},
   "outputs": [
    {
     "name": "stdout",
     "output_type": "stream",
     "text": [
      "Magnitude of Vector D: 19.621416870348583\n"
     ]
    }
   ],
   "source": [
    "D = np.array([1, 2, 3, 4, 5, 6, 7, 8, 9, 10])\n",
    "magnitude_D = np.linalg.norm(D)\n",
    "print(\"Magnitude of Vector D:\", magnitude_D)"
   ]
  },
  {
   "cell_type": "markdown",
   "metadata": {},
   "source": [
    "<img src=\"img/pic6_unit_vector.png\" width=\"400\">"
   ]
  },
  {
   "cell_type": "markdown",
   "metadata": {},
   "source": [
    "<img src=\"img/pic7_normalization.png\" width=\"400\">"
   ]
  },
  {
   "cell_type": "code",
   "execution_count": 16,
   "metadata": {},
   "outputs": [
    {
     "name": "stdout",
     "output_type": "stream",
     "text": [
      "Unit of Vector A: [0.26726124 0.53452248 0.80178373]\n",
      "Unit of Vector B: [0.45584231 0.56980288 0.68376346]\n"
     ]
    }
   ],
   "source": [
    "unit_A = 1/magnitude_A * A\n",
    "unit_B = 1/magnitude_B * B\n",
    "print(\"Unit of Vector A:\", unit_A)\n",
    "print(\"Unit of Vector B:\", unit_B)"
   ]
  },
  {
   "cell_type": "markdown",
   "metadata": {},
   "source": [
    "## Inner Products"
   ]
  },
  {
   "cell_type": "code",
   "execution_count": 20,
   "metadata": {},
   "outputs": [
    {
     "name": "stdout",
     "output_type": "stream",
     "text": [
      "Vector A: [1 2 3] * Vector B: [4 5 6] = Vector AB: [ 4 10 18]\n"
     ]
    }
   ],
   "source": [
    "# Vectors coordiantes can be multipled so long as the vectores are the same length\n",
    "AB = A * B\n",
    "print(\"Vector A:\", A, \"* Vector B:\",B, \"= Vector AB:\", AB)"
   ]
  },
  {
   "cell_type": "markdown",
   "metadata": {},
   "source": [
    "### Dot Product & Angle Between Vectors"
   ]
  },
  {
   "cell_type": "code",
   "execution_count": 31,
   "metadata": {},
   "outputs": [],
   "source": [
    "# The multiplcation of each coordinate summed\n",
    "# The summed value then divided by the magnitudes multiplied"
   ]
  },
  {
   "cell_type": "markdown",
   "metadata": {},
   "source": [
    "<img src=\"img/pic8_dot_product.png\" width=\"400\">"
   ]
  },
  {
   "cell_type": "markdown",
   "metadata": {},
   "source": [
    "<img src=\"img/pic9_cosine_sim.png\" width=\"400\">"
   ]
  },
  {
   "cell_type": "code",
   "execution_count": 59,
   "metadata": {},
   "outputs": [
    {
     "name": "stdout",
     "output_type": "stream",
     "text": [
      "Vector V: [ 1  2 -1]\n",
      "Vector W: [3 1 0]\n",
      "Dot Product of V.W: 5\n",
      "Magnitude of Vector V: 2.449489742783178\n",
      "Magnitude of Vector W: 3.1622776601683795\n",
      "Magnitude of Vector V * Magnitude of Vector W: 7.745966692414833\n",
      "Radians:  0.8691222030072928\n",
      "Degrees:  49.79703411343022\n"
     ]
    }
   ],
   "source": [
    "V = np.array([1, 2, -1])\n",
    "W = np.array([3, 1, 0])\n",
    "V_dot_W = np.dot(V,W)\n",
    "magnitude_V = np.linalg.norm(V)\n",
    "magnitude_W = np.linalg.norm(W)\n",
    "mV_times_mW = magnitude_V * magnitude_W\n",
    "rads = np.arccos(V_dot_W/mV_times_mW)\n",
    "deg = np.degrees(rads)\n",
    "print(\"Vector V:\", V)\n",
    "print(\"Vector W:\", W)\n",
    "print(\"Dot Product of V.W:\", V_dot_W)\n",
    "print(\"Magnitude of Vector V:\" ,magnitude_V)\n",
    "print(\"Magnitude of Vector W:\" ,magnitude_W)\n",
    "print(\"Magnitude of Vector V * Magnitude of Vector W:\", mV_times_mW)\n",
    "print(\"Radians: \", rads)\n",
    "print(\"Degrees: \", deg)"
   ]
  },
  {
   "cell_type": "code",
   "execution_count": null,
   "metadata": {},
   "outputs": [],
   "source": []
  }
 ],
 "metadata": {
  "kernelspec": {
   "display_name": "Python 3",
   "language": "python",
   "name": "python3"
  },
  "language_info": {
   "codemirror_mode": {
    "name": "ipython",
    "version": 3
   },
   "file_extension": ".py",
   "mimetype": "text/x-python",
   "name": "python",
   "nbconvert_exporter": "python",
   "pygments_lexer": "ipython3",
   "version": "3.6.7"
  }
 },
 "nbformat": 4,
 "nbformat_minor": 2
}
