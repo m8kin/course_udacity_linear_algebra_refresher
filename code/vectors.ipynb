{
 "cells": [
  {
   "cell_type": "markdown",
   "metadata": {},
   "source": [
    "# Vector Module"
   ]
  },
  {
   "cell_type": "code",
   "execution_count": 101,
   "metadata": {
    "collapsed": true
   },
   "outputs": [],
   "source": [
    "# imports\n",
    "import numpy as np\n",
    "import matplotlib.pyplot as plt"
   ]
  },
  {
   "cell_type": "code",
   "execution_count": 110,
   "metadata": {
    "collapsed": false,
    "scrolled": true
   },
   "outputs": [],
   "source": [
    "# create vector\n",
    "vector1 = np.array([1,2])"
   ]
  },
  {
   "cell_type": "code",
   "execution_count": 113,
   "metadata": {
    "collapsed": false
   },
   "outputs": [
    {
     "name": "stdout",
     "output_type": "stream",
     "text": [
      "[1 2]\n",
      "<class 'numpy.ndarray'>\n"
     ]
    }
   ],
   "source": [
    "# print out vector\n",
    "print(vector1)\n",
    "print(type(vector1))"
   ]
  },
  {
   "cell_type": "code",
   "execution_count": 115,
   "metadata": {
    "collapsed": false
   },
   "outputs": [
    {
     "name": "stdout",
     "output_type": "stream",
     "text": [
      "[1 2]\n",
      "[3 1]\n"
     ]
    }
   ],
   "source": [
    "# create and print more vectors\n",
    "vector2 = np.array([1,2])\n",
    "vector3 = np.array([3,1])\n",
    "print(vector2)\n",
    "print(vector3)"
   ]
  },
  {
   "cell_type": "code",
   "execution_count": 118,
   "metadata": {
    "collapsed": false
   },
   "outputs": [
    {
     "name": "stdout",
     "output_type": "stream",
     "text": [
      "True\n",
      "False\n"
     ]
    }
   ],
   "source": [
    "#compare 2 vectors\n",
    "print(np.array_equal(vector1,vector2))\n",
    "print(np.array_equal(vector1,vector3))"
   ]
  },
  {
   "cell_type": "markdown",
   "metadata": {},
   "source": [
    "# Operating on Vectors"
   ]
  },
  {
   "cell_type": "code",
   "execution_count": 119,
   "metadata": {
    "collapsed": false
   },
   "outputs": [
    {
     "name": "stdout",
     "output_type": "stream",
     "text": [
      "[1 2]\n",
      "[3 1]\n",
      "[4 3]\n"
     ]
    }
   ],
   "source": [
    "# Addition\n",
    "vector4 = vector1 + vector3\n",
    "print(vector1)\n",
    "print(vector3)\n",
    "print(vector4)"
   ]
  },
  {
   "cell_type": "code",
   "execution_count": 143,
   "metadata": {
    "collapsed": false
   },
   "outputs": [
    {
     "data": {
      "image/png": "[encoded data removed]",
      "text/plain": [
       "<matplotlib.figure.Figure at 0x7f5c4456d400>"
      ]
     },
     "metadata": {},
     "output_type": "display_data"
    }
   ],
   "source": [
    "#vector1\n",
    "plt.scatter([1],[2],c=\"red\") #point\n",
    "plt.plot([0,2],c=\"red\") #line from origin\n",
    "#vector3\n",
    "plt.scatter([3],[1],c=\"blue\") #vector3\n",
    "plt.plot([0,1/3,2/3,1],c=\"blue\") #line from origin had to drawn manually :(\n",
    "#vector4\n",
    "plt.scatter([4],[3],c=\"purple\") #vector4\n",
    "plt.plot([0,3/4,3/4*2,3/4*3,3],c=\"purple\") #line from origin\n",
    "#attributes\n",
    "plt.ylim(-5,5)\n",
    "plt.xlim(-5,5)\n",
    "plt.xticks(np.arange(-5, 5, 1))\n",
    "plt.yticks(np.arange(-5, 5, 1))\n",
    "plt.legend\n",
    "plt.grid()\n",
    "plt.show()"
   ]
  },
  {
   "cell_type": "code",
   "execution_count": null,
   "metadata": {
    "collapsed": true
   },
   "outputs": [],
   "source": []
  }
 ],
 "metadata": {
  "anaconda-cloud": {},
  "kernelspec": {
   "display_name": "Python [conda root]",
   "language": "python",
   "name": "conda-root-py"
  },
  "language_info": {
   "codemirror_mode": {
    "name": "ipython",
    "version": 3
   },
   "file_extension": ".py",
   "mimetype": "text/x-python",
   "name": "python",
   "nbconvert_exporter": "python",
   "pygments_lexer": "ipython3",
   "version": "3.5.2"
  }
 },
 "nbformat": 4,
 "nbformat_minor": 0
}
